{
 "cells": [
  {
   "cell_type": "markdown",
   "id": "f8db2bda-a23d-4f1a-8d80-a84d83b4e32c",
   "metadata": {},
   "source": [
    "# Recurrent Neural Network - RNN"
   ]
  },
  {
   "cell_type": "markdown",
   "id": "b27a1996",
   "metadata": {},
   "source": [
    "Importing the required libraries:"
   ]
  },
  {
   "cell_type": "code",
   "execution_count": 2,
   "id": "b14cbc57-530e-46a9-9e3f-7e574f047c8b",
   "metadata": {},
   "outputs": [],
   "source": [
    "import os\n",
    "import numpy as np\n",
    "import pandas as pd\n",
    "import datetime as dt\n",
    "import matplotlib.pyplot as plt\n",
    "import math"
   ]
  },
  {
   "cell_type": "code",
   "execution_count": 3,
   "id": "413c0299",
   "metadata": {},
   "outputs": [
    {
     "name": "stderr",
     "output_type": "stream",
     "text": [
      "/var/folders/cl/2n2m21_9053fvwntblb1fmwm0000gn/T/ipykernel_5156/3043979079.py:2: UserWarning: Could not infer format, so each element will be parsed individually, falling back to `dateutil`. To ensure parsing is consistent and as-expected, please specify a format.\n",
      "  ts = pd.read_csv('HortonGeneralHospital 2.csv', header=0, index_col=0, parse_dates=True).squeeze(\"columns\")\n"
     ]
    }
   ],
   "source": [
    "os.chdir('/Users/mariapiabellini/Desktop/Unicatt/Time series/project')\n",
    "ts = pd.read_csv('HortonGeneralHospital 2.csv', header=0, index_col=0, parse_dates=True).squeeze(\"columns\")"
   ]
  },
  {
   "cell_type": "code",
   "execution_count": 4,
   "id": "de04869a",
   "metadata": {},
   "outputs": [
    {
     "data": {
      "text/html": [
       "<div>\n",
       "<style scoped>\n",
       "    .dataframe tbody tr th:only-of-type {\n",
       "        vertical-align: middle;\n",
       "    }\n",
       "\n",
       "    .dataframe tbody tr th {\n",
       "        vertical-align: top;\n",
       "    }\n",
       "\n",
       "    .dataframe thead th {\n",
       "        text-align: right;\n",
       "    }\n",
       "</style>\n",
       "<table border=\"1\" class=\"dataframe\">\n",
       "  <thead>\n",
       "    <tr style=\"text-align: right;\">\n",
       "      <th></th>\n",
       "      <th>Adm</th>\n",
       "      <th>year</th>\n",
       "      <th>month</th>\n",
       "    </tr>\n",
       "  </thead>\n",
       "  <tbody>\n",
       "    <tr>\n",
       "      <th>1</th>\n",
       "      <td>413</td>\n",
       "      <td>1999</td>\n",
       "      <td>11</td>\n",
       "    </tr>\n",
       "    <tr>\n",
       "      <th>2</th>\n",
       "      <td>443</td>\n",
       "      <td>1999</td>\n",
       "      <td>12</td>\n",
       "    </tr>\n",
       "    <tr>\n",
       "      <th>3</th>\n",
       "      <td>378</td>\n",
       "      <td>2000</td>\n",
       "      <td>1</td>\n",
       "    </tr>\n",
       "    <tr>\n",
       "      <th>4</th>\n",
       "      <td>385</td>\n",
       "      <td>2000</td>\n",
       "      <td>2</td>\n",
       "    </tr>\n",
       "    <tr>\n",
       "      <th>5</th>\n",
       "      <td>388</td>\n",
       "      <td>2000</td>\n",
       "      <td>3</td>\n",
       "    </tr>\n",
       "    <tr>\n",
       "      <th>...</th>\n",
       "      <td>...</td>\n",
       "      <td>...</td>\n",
       "      <td>...</td>\n",
       "    </tr>\n",
       "    <tr>\n",
       "      <th>135</th>\n",
       "      <td>541</td>\n",
       "      <td>2011</td>\n",
       "      <td>1</td>\n",
       "    </tr>\n",
       "    <tr>\n",
       "      <th>136</th>\n",
       "      <td>457</td>\n",
       "      <td>2011</td>\n",
       "      <td>2</td>\n",
       "    </tr>\n",
       "    <tr>\n",
       "      <th>137</th>\n",
       "      <td>560</td>\n",
       "      <td>2011</td>\n",
       "      <td>3</td>\n",
       "    </tr>\n",
       "    <tr>\n",
       "      <th>138</th>\n",
       "      <td>514</td>\n",
       "      <td>2011</td>\n",
       "      <td>4</td>\n",
       "    </tr>\n",
       "    <tr>\n",
       "      <th>139</th>\n",
       "      <td>373</td>\n",
       "      <td>2011</td>\n",
       "      <td>5</td>\n",
       "    </tr>\n",
       "  </tbody>\n",
       "</table>\n",
       "<p>139 rows × 3 columns</p>\n",
       "</div>"
      ],
      "text/plain": [
       "     Adm  year  month\n",
       "1    413  1999     11\n",
       "2    443  1999     12\n",
       "3    378  2000      1\n",
       "4    385  2000      2\n",
       "5    388  2000      3\n",
       "..   ...   ...    ...\n",
       "135  541  2011      1\n",
       "136  457  2011      2\n",
       "137  560  2011      3\n",
       "138  514  2011      4\n",
       "139  373  2011      5\n",
       "\n",
       "[139 rows x 3 columns]"
      ]
     },
     "execution_count": 4,
     "metadata": {},
     "output_type": "execute_result"
    }
   ],
   "source": [
    "adm_ts=ts.iloc[:,3:6]\n",
    "adm_ts"
   ]
  },
  {
   "cell_type": "code",
   "execution_count": 5,
   "id": "34e886ae",
   "metadata": {},
   "outputs": [
    {
     "name": "stderr",
     "output_type": "stream",
     "text": [
      "/var/folders/cl/2n2m21_9053fvwntblb1fmwm0000gn/T/ipykernel_5156/549218275.py:1: SettingWithCopyWarning: \n",
      "A value is trying to be set on a copy of a slice from a DataFrame.\n",
      "Try using .loc[row_indexer,col_indexer] = value instead\n",
      "\n",
      "See the caveats in the documentation: https://pandas.pydata.org/pandas-docs/stable/user_guide/indexing.html#returning-a-view-versus-a-copy\n",
      "  adm_ts.loc[:,'date'] = pd.to_datetime(ts[['year', 'month']].assign(day=1))\n"
     ]
    },
    {
     "data": {
      "text/html": [
       "<div>\n",
       "<style scoped>\n",
       "    .dataframe tbody tr th:only-of-type {\n",
       "        vertical-align: middle;\n",
       "    }\n",
       "\n",
       "    .dataframe tbody tr th {\n",
       "        vertical-align: top;\n",
       "    }\n",
       "\n",
       "    .dataframe thead th {\n",
       "        text-align: right;\n",
       "    }\n",
       "</style>\n",
       "<table border=\"1\" class=\"dataframe\">\n",
       "  <thead>\n",
       "    <tr style=\"text-align: right;\">\n",
       "      <th></th>\n",
       "      <th>Adm</th>\n",
       "      <th>year</th>\n",
       "      <th>month</th>\n",
       "      <th>date</th>\n",
       "    </tr>\n",
       "  </thead>\n",
       "  <tbody>\n",
       "    <tr>\n",
       "      <th>1</th>\n",
       "      <td>413</td>\n",
       "      <td>1999</td>\n",
       "      <td>11</td>\n",
       "      <td>1999-11</td>\n",
       "    </tr>\n",
       "    <tr>\n",
       "      <th>2</th>\n",
       "      <td>443</td>\n",
       "      <td>1999</td>\n",
       "      <td>12</td>\n",
       "      <td>1999-12</td>\n",
       "    </tr>\n",
       "    <tr>\n",
       "      <th>3</th>\n",
       "      <td>378</td>\n",
       "      <td>2000</td>\n",
       "      <td>1</td>\n",
       "      <td>2000-01</td>\n",
       "    </tr>\n",
       "    <tr>\n",
       "      <th>4</th>\n",
       "      <td>385</td>\n",
       "      <td>2000</td>\n",
       "      <td>2</td>\n",
       "      <td>2000-02</td>\n",
       "    </tr>\n",
       "    <tr>\n",
       "      <th>5</th>\n",
       "      <td>388</td>\n",
       "      <td>2000</td>\n",
       "      <td>3</td>\n",
       "      <td>2000-03</td>\n",
       "    </tr>\n",
       "    <tr>\n",
       "      <th>...</th>\n",
       "      <td>...</td>\n",
       "      <td>...</td>\n",
       "      <td>...</td>\n",
       "      <td>...</td>\n",
       "    </tr>\n",
       "    <tr>\n",
       "      <th>135</th>\n",
       "      <td>541</td>\n",
       "      <td>2011</td>\n",
       "      <td>1</td>\n",
       "      <td>2011-01</td>\n",
       "    </tr>\n",
       "    <tr>\n",
       "      <th>136</th>\n",
       "      <td>457</td>\n",
       "      <td>2011</td>\n",
       "      <td>2</td>\n",
       "      <td>2011-02</td>\n",
       "    </tr>\n",
       "    <tr>\n",
       "      <th>137</th>\n",
       "      <td>560</td>\n",
       "      <td>2011</td>\n",
       "      <td>3</td>\n",
       "      <td>2011-03</td>\n",
       "    </tr>\n",
       "    <tr>\n",
       "      <th>138</th>\n",
       "      <td>514</td>\n",
       "      <td>2011</td>\n",
       "      <td>4</td>\n",
       "      <td>2011-04</td>\n",
       "    </tr>\n",
       "    <tr>\n",
       "      <th>139</th>\n",
       "      <td>373</td>\n",
       "      <td>2011</td>\n",
       "      <td>5</td>\n",
       "      <td>2011-05</td>\n",
       "    </tr>\n",
       "  </tbody>\n",
       "</table>\n",
       "<p>139 rows × 4 columns</p>\n",
       "</div>"
      ],
      "text/plain": [
       "     Adm  year  month     date\n",
       "1    413  1999     11  1999-11\n",
       "2    443  1999     12  1999-12\n",
       "3    378  2000      1  2000-01\n",
       "4    385  2000      2  2000-02\n",
       "5    388  2000      3  2000-03\n",
       "..   ...   ...    ...      ...\n",
       "135  541  2011      1  2011-01\n",
       "136  457  2011      2  2011-02\n",
       "137  560  2011      3  2011-03\n",
       "138  514  2011      4  2011-04\n",
       "139  373  2011      5  2011-05\n",
       "\n",
       "[139 rows x 4 columns]"
      ]
     },
     "execution_count": 5,
     "metadata": {},
     "output_type": "execute_result"
    }
   ],
   "source": [
    "adm_ts.loc[:,'date'] = pd.to_datetime(ts[['year', 'month']].assign(day=1))\n",
    "adm_ts.loc[:,'date'] = adm_ts['date'].dt.to_period('M')\n",
    "adm_ts"
   ]
  },
  {
   "cell_type": "markdown",
   "id": "046a3e47",
   "metadata": {},
   "source": [
    "## Splitting data \n",
    "We split the data 80%/20% into the Training set and the Test set."
   ]
  },
  {
   "cell_type": "code",
   "execution_count": 6,
   "id": "a5065cb9",
   "metadata": {},
   "outputs": [
    {
     "name": "stdout",
     "output_type": "stream",
     "text": [
      "(112, 1) (27, 1)\n"
     ]
    }
   ],
   "source": [
    "training_data_len = math.ceil(len(adm_ts) * .8)\n",
    "training_data_len \n",
    "\n",
    "train_data = adm_ts[:training_data_len].iloc[:,:1] \n",
    "test_data = adm_ts[training_data_len:].iloc[:,:1]\n",
    "print(train_data.shape, test_data.shape)"
   ]
  },
  {
   "cell_type": "markdown",
   "id": "31bc9195",
   "metadata": {},
   "source": [
    "## Re-shaping the arrays"
   ]
  },
  {
   "cell_type": "code",
   "execution_count": 7,
   "id": "c3d416c3",
   "metadata": {},
   "outputs": [
    {
     "name": "stdout",
     "output_type": "stream",
     "text": [
      "(112, 1) (27, 1)\n"
     ]
    }
   ],
   "source": [
    "dataset_train = train_data.Adm.values \n",
    "dataset_test = test_data.Adm.values \n",
    "dataset_train = np.reshape(dataset_train, (-1,1))\n",
    "dataset_test = np.reshape(dataset_test, (-1,1)) \n",
    "print(dataset_train.shape, dataset_test.shape)"
   ]
  },
  {
   "cell_type": "markdown",
   "id": "8a20d5d0",
   "metadata": {},
   "source": [
    "## Data Normalization"
   ]
  },
  {
   "cell_type": "code",
   "execution_count": 8,
   "id": "a2b77e3a",
   "metadata": {},
   "outputs": [
    {
     "name": "stdout",
     "output_type": "stream",
     "text": [
      "[[0.10115607]\n",
      " [0.18786127]\n",
      " [0.        ]\n",
      " [0.02023121]\n",
      " [0.02890173]]\n",
      "[[0.8869258 ]\n",
      " [0.78798587]\n",
      " [1.        ]\n",
      " [0.65371025]\n",
      " [0.6819788 ]]\n"
     ]
    }
   ],
   "source": [
    "from sklearn.preprocessing import MinMaxScaler\n",
    "scaler = MinMaxScaler(feature_range=(0,1))\n",
    "scaled_train = scaler.fit_transform(dataset_train)\n",
    "scaled_test = scaler.fit_transform(dataset_test) \n",
    "print(scaled_train[:5])\n",
    "print(scaled_test[:5])"
   ]
  },
  {
   "cell_type": "markdown",
   "id": "9f9774ea",
   "metadata": {},
   "source": [
    "## Time Series data"
   ]
  },
  {
   "cell_type": "code",
   "execution_count": 9,
   "id": "9032fd58",
   "metadata": {},
   "outputs": [],
   "source": [
    "X_train = []\n",
    "y_train = []\n",
    "for i in range(20, len(scaled_train)):\n",
    "    X_train.append(scaled_train[i-20:i, 0])\n",
    "    y_train.append(scaled_train[i, 0])"
   ]
  },
  {
   "cell_type": "code",
   "execution_count": 10,
   "id": "5400627b",
   "metadata": {},
   "outputs": [],
   "source": [
    "X_test = []\n",
    "y_test = []\n",
    "for i in range(20, len(scaled_test)):\n",
    "    X_test.append(scaled_test[i-20:i, 0])\n",
    "    y_test.append(scaled_test[i, 0])"
   ]
  },
  {
   "cell_type": "markdown",
   "id": "aaee7cee",
   "metadata": {},
   "source": [
    "## Trasforming the data for RNN"
   ]
  },
  {
   "cell_type": "code",
   "execution_count": 11,
   "id": "a92a964c",
   "metadata": {},
   "outputs": [
    {
     "name": "stdout",
     "output_type": "stream",
     "text": [
      "X_train : (92, 20, 1) y_train : (92, 1)\n"
     ]
    }
   ],
   "source": [
    "X_train, y_train = np.array(X_train), np.array(y_train)\n",
    "\n",
    "X_train = np.reshape(X_train, (X_train.shape[0], X_train.shape[1],1))\n",
    "y_train = np.reshape(y_train, (y_train.shape[0],1))\n",
    "print(\"X_train :\",X_train.shape,\"y_train :\",y_train.shape)"
   ]
  },
  {
   "cell_type": "code",
   "execution_count": 12,
   "id": "3f1f3fc7",
   "metadata": {},
   "outputs": [
    {
     "name": "stdout",
     "output_type": "stream",
     "text": [
      "X_test : (7, 20, 1) y_test : (7, 1)\n"
     ]
    }
   ],
   "source": [
    "X_test, y_test = np.array(X_test), np.array(y_test)\n",
    "X_test = np.reshape(X_test, (X_test.shape[0], X_test.shape[1],1))\n",
    "y_test = np.reshape(y_test, (y_test.shape[0],1))\n",
    "print(\"X_test :\",X_test.shape,\"y_test :\",y_test.shape)"
   ]
  },
  {
   "cell_type": "code",
   "execution_count": 13,
   "id": "e9dc1082",
   "metadata": {},
   "outputs": [],
   "source": [
    "from keras.models import Sequential\n",
    "from keras.layers import LSTM\n",
    "from keras.layers import Dense\n",
    "from keras.layers import SimpleRNN\n",
    "from keras.layers import Dropout\n",
    "from keras.layers import GRU, Bidirectional\n",
    "from keras.optimizers import SGD\n",
    "from sklearn import metrics\n",
    "from sklearn.metrics import mean_squared_error\n",
    "import tensorflow as tf"
   ]
  },
  {
   "cell_type": "code",
   "execution_count": 14,
   "id": "829c05ff",
   "metadata": {},
   "outputs": [],
   "source": [
    "regressor = Sequential()\n",
    "\n",
    "# adding RNN layers and dropout regularization\n",
    "regressor.add(SimpleRNN(units = 20, activation = \"tanh\",return_sequences = True,input_shape = (X_train.shape[1],1)))\n",
    "\n",
    "regressor.add(Dropout(0.2))\n",
    "\n",
    "regressor.add(SimpleRNN(units = 20, activation = \"tanh\",return_sequences = True))\n",
    "\n",
    "regressor.add(SimpleRNN(units = 20,activation = \"tanh\",return_sequences = True))\n",
    "\n",
    "regressor.add( SimpleRNN(units = 20))\n",
    "\n",
    "# adding the output layer\n",
    "regressor.add(Dense(units = 1,activation='sigmoid'))"
   ]
  },
  {
   "cell_type": "markdown",
   "id": "2b0343b1",
   "metadata": {},
   "source": [
    "## Compiling the model"
   ]
  },
  {
   "cell_type": "code",
   "execution_count": 15,
   "id": "48f7b14f",
   "metadata": {},
   "outputs": [
    {
     "name": "stdout",
     "output_type": "stream",
     "text": [
      "Epoch 1/20\n",
      "46/46 [==============================] - 1s 3ms/step - loss: 0.0429\n",
      "Epoch 2/20\n",
      "46/46 [==============================] - 0s 2ms/step - loss: 0.0263\n",
      "Epoch 3/20\n",
      "46/46 [==============================] - 0s 3ms/step - loss: 0.0376\n",
      "Epoch 4/20\n",
      "46/46 [==============================] - 0s 3ms/step - loss: 0.0311\n",
      "Epoch 5/20\n",
      "46/46 [==============================] - 0s 3ms/step - loss: 0.0310\n",
      "Epoch 6/20\n",
      "46/46 [==============================] - 0s 3ms/step - loss: 0.0283\n",
      "Epoch 7/20\n",
      "46/46 [==============================] - 0s 3ms/step - loss: 0.0229\n",
      "Epoch 8/20\n",
      "46/46 [==============================] - 0s 3ms/step - loss: 0.0230\n",
      "Epoch 9/20\n",
      "46/46 [==============================] - 0s 3ms/step - loss: 0.0217\n",
      "Epoch 10/20\n",
      "46/46 [==============================] - 0s 3ms/step - loss: 0.0187\n",
      "Epoch 11/20\n",
      "46/46 [==============================] - 0s 3ms/step - loss: 0.0211\n",
      "Epoch 12/20\n",
      "46/46 [==============================] - 0s 3ms/step - loss: 0.0187\n",
      "Epoch 13/20\n",
      "46/46 [==============================] - 0s 3ms/step - loss: 0.0153\n",
      "Epoch 14/20\n",
      "46/46 [==============================] - 0s 3ms/step - loss: 0.0179\n",
      "Epoch 15/20\n",
      "46/46 [==============================] - 0s 3ms/step - loss: 0.0159\n",
      "Epoch 16/20\n",
      "46/46 [==============================] - 0s 3ms/step - loss: 0.0157\n",
      "Epoch 17/20\n",
      "46/46 [==============================] - 0s 3ms/step - loss: 0.0177\n",
      "Epoch 18/20\n",
      "46/46 [==============================] - 0s 3ms/step - loss: 0.0162\n",
      "Epoch 19/20\n",
      "46/46 [==============================] - 0s 3ms/step - loss: 0.0169\n",
      "Epoch 20/20\n",
      "46/46 [==============================] - 0s 3ms/step - loss: 0.0181\n",
      "Model: \"sequential\"\n",
      "_________________________________________________________________\n",
      " Layer (type)                Output Shape              Param #   \n",
      "=================================================================\n",
      " simple_rnn (SimpleRNN)      (None, 20, 20)            440       \n",
      "                                                                 \n",
      " dropout (Dropout)           (None, 20, 20)            0         \n",
      "                                                                 \n",
      " simple_rnn_1 (SimpleRNN)    (None, 20, 20)            820       \n",
      "                                                                 \n",
      " simple_rnn_2 (SimpleRNN)    (None, 20, 20)            820       \n",
      "                                                                 \n",
      " simple_rnn_3 (SimpleRNN)    (None, 20)                820       \n",
      "                                                                 \n",
      " dense (Dense)               (None, 1)                 21        \n",
      "                                                                 \n",
      "=================================================================\n",
      "Total params: 2921 (11.41 KB)\n",
      "Trainable params: 2921 (11.41 KB)\n",
      "Non-trainable params: 0 (0.00 Byte)\n",
      "_________________________________________________________________\n"
     ]
    }
   ],
   "source": [
    "regressor.compile(optimizer = tf.keras.optimizers.legacy.SGD(learning_rate=0.01,decay=1e-6, momentum=0.9, nesterov=True), loss = \"mean_squared_error\")\n",
    "\n",
    "# fitting the model\n",
    "regressor.fit(X_train, y_train, epochs = 20, batch_size = 2)\n",
    "regressor.summary()"
   ]
  },
  {
   "cell_type": "markdown",
   "id": "6bae3d0b",
   "metadata": {},
   "source": [
    "## Prediction"
   ]
  },
  {
   "cell_type": "code",
   "execution_count": 16,
   "id": "e8027f05",
   "metadata": {},
   "outputs": [
    {
     "name": "stdout",
     "output_type": "stream",
     "text": [
      "1/1 [==============================] - 0s 132ms/step\n"
     ]
    }
   ],
   "source": [
    "y_RNN = regressor.predict(X_test)"
   ]
  },
  {
   "cell_type": "code",
   "execution_count": 17,
   "id": "b827f36b",
   "metadata": {},
   "outputs": [],
   "source": [
    "y_RNN_O = scaler.inverse_transform(y_RNN) "
   ]
  },
  {
   "cell_type": "code",
   "execution_count": 18,
   "id": "c89a13de",
   "metadata": {},
   "outputs": [
    {
     "ename": "ValueError",
     "evalue": "x and y must have same first dimension, but have shapes (27,) and (7, 1)",
     "output_type": "error",
     "traceback": [
      "\u001b[0;31m---------------------------------------------------------------------------\u001b[0m",
      "\u001b[0;31mValueError\u001b[0m                                Traceback (most recent call last)",
      "Cell \u001b[0;32mIn[18], line 7\u001b[0m\n\u001b[1;32m      5\u001b[0m plt\u001b[38;5;241m.\u001b[39mplot(train_data\u001b[38;5;241m.\u001b[39mindex, train_data\u001b[38;5;241m.\u001b[39mAdm, label \u001b[38;5;241m=\u001b[39m \u001b[38;5;124m\"\u001b[39m\u001b[38;5;124mtrain_data\u001b[39m\u001b[38;5;124m\"\u001b[39m, color \u001b[38;5;241m=\u001b[39m \u001b[38;5;124m\"\u001b[39m\u001b[38;5;124mb\u001b[39m\u001b[38;5;124m\"\u001b[39m)\n\u001b[1;32m      6\u001b[0m plt\u001b[38;5;241m.\u001b[39mplot(test_data\u001b[38;5;241m.\u001b[39mindex, test_data\u001b[38;5;241m.\u001b[39mAdm, label \u001b[38;5;241m=\u001b[39m \u001b[38;5;124m\"\u001b[39m\u001b[38;5;124mtest_data\u001b[39m\u001b[38;5;124m\"\u001b[39m, color \u001b[38;5;241m=\u001b[39m \u001b[38;5;124m\"\u001b[39m\u001b[38;5;124mr\u001b[39m\u001b[38;5;124m\"\u001b[39m)\n\u001b[0;32m----> 7\u001b[0m plt\u001b[38;5;241m.\u001b[39mplot(test_data\u001b[38;5;241m.\u001b[39mindex, y_RNN_O, label \u001b[38;5;241m=\u001b[39m \u001b[38;5;124m\"\u001b[39m\u001b[38;5;124my_RNN\u001b[39m\u001b[38;5;124m\"\u001b[39m, color \u001b[38;5;241m=\u001b[39m \u001b[38;5;124m\"\u001b[39m\u001b[38;5;124myellow\u001b[39m\u001b[38;5;124m\"\u001b[39m)\n\u001b[1;32m      8\u001b[0m plt\u001b[38;5;241m.\u001b[39mlegend()\n\u001b[1;32m      9\u001b[0m plt\u001b[38;5;241m.\u001b[39mtitle(\u001b[38;5;124m\"\u001b[39m\u001b[38;5;124mBasic RNN\u001b[39m\u001b[38;5;124m\"\u001b[39m)\n",
      "File \u001b[0;32m~/anaconda3/lib/python3.11/site-packages/matplotlib/pyplot.py:3578\u001b[0m, in \u001b[0;36mplot\u001b[0;34m(scalex, scaley, data, *args, **kwargs)\u001b[0m\n\u001b[1;32m   3570\u001b[0m \u001b[38;5;129m@_copy_docstring_and_deprecators\u001b[39m(Axes\u001b[38;5;241m.\u001b[39mplot)\n\u001b[1;32m   3571\u001b[0m \u001b[38;5;28;01mdef\u001b[39;00m \u001b[38;5;21mplot\u001b[39m(\n\u001b[1;32m   3572\u001b[0m     \u001b[38;5;241m*\u001b[39margs: \u001b[38;5;28mfloat\u001b[39m \u001b[38;5;241m|\u001b[39m ArrayLike \u001b[38;5;241m|\u001b[39m \u001b[38;5;28mstr\u001b[39m,\n\u001b[0;32m   (...)\u001b[0m\n\u001b[1;32m   3576\u001b[0m     \u001b[38;5;241m*\u001b[39m\u001b[38;5;241m*\u001b[39mkwargs,\n\u001b[1;32m   3577\u001b[0m ) \u001b[38;5;241m-\u001b[39m\u001b[38;5;241m>\u001b[39m \u001b[38;5;28mlist\u001b[39m[Line2D]:\n\u001b[0;32m-> 3578\u001b[0m     \u001b[38;5;28;01mreturn\u001b[39;00m gca()\u001b[38;5;241m.\u001b[39mplot(\n\u001b[1;32m   3579\u001b[0m         \u001b[38;5;241m*\u001b[39margs,\n\u001b[1;32m   3580\u001b[0m         scalex\u001b[38;5;241m=\u001b[39mscalex,\n\u001b[1;32m   3581\u001b[0m         scaley\u001b[38;5;241m=\u001b[39mscaley,\n\u001b[1;32m   3582\u001b[0m         \u001b[38;5;241m*\u001b[39m\u001b[38;5;241m*\u001b[39m({\u001b[38;5;124m\"\u001b[39m\u001b[38;5;124mdata\u001b[39m\u001b[38;5;124m\"\u001b[39m: data} \u001b[38;5;28;01mif\u001b[39;00m data \u001b[38;5;129;01mis\u001b[39;00m \u001b[38;5;129;01mnot\u001b[39;00m \u001b[38;5;28;01mNone\u001b[39;00m \u001b[38;5;28;01melse\u001b[39;00m {}),\n\u001b[1;32m   3583\u001b[0m         \u001b[38;5;241m*\u001b[39m\u001b[38;5;241m*\u001b[39mkwargs,\n\u001b[1;32m   3584\u001b[0m     )\n",
      "File \u001b[0;32m~/anaconda3/lib/python3.11/site-packages/matplotlib/axes/_axes.py:1721\u001b[0m, in \u001b[0;36mAxes.plot\u001b[0;34m(self, scalex, scaley, data, *args, **kwargs)\u001b[0m\n\u001b[1;32m   1478\u001b[0m \u001b[38;5;250m\u001b[39m\u001b[38;5;124;03m\"\"\"\u001b[39;00m\n\u001b[1;32m   1479\u001b[0m \u001b[38;5;124;03mPlot y versus x as lines and/or markers.\u001b[39;00m\n\u001b[1;32m   1480\u001b[0m \n\u001b[0;32m   (...)\u001b[0m\n\u001b[1;32m   1718\u001b[0m \u001b[38;5;124;03m(``'green'``) or hex strings (``'#008000'``).\u001b[39;00m\n\u001b[1;32m   1719\u001b[0m \u001b[38;5;124;03m\"\"\"\u001b[39;00m\n\u001b[1;32m   1720\u001b[0m kwargs \u001b[38;5;241m=\u001b[39m cbook\u001b[38;5;241m.\u001b[39mnormalize_kwargs(kwargs, mlines\u001b[38;5;241m.\u001b[39mLine2D)\n\u001b[0;32m-> 1721\u001b[0m lines \u001b[38;5;241m=\u001b[39m [\u001b[38;5;241m*\u001b[39m\u001b[38;5;28mself\u001b[39m\u001b[38;5;241m.\u001b[39m_get_lines(\u001b[38;5;28mself\u001b[39m, \u001b[38;5;241m*\u001b[39margs, data\u001b[38;5;241m=\u001b[39mdata, \u001b[38;5;241m*\u001b[39m\u001b[38;5;241m*\u001b[39mkwargs)]\n\u001b[1;32m   1722\u001b[0m \u001b[38;5;28;01mfor\u001b[39;00m line \u001b[38;5;129;01min\u001b[39;00m lines:\n\u001b[1;32m   1723\u001b[0m     \u001b[38;5;28mself\u001b[39m\u001b[38;5;241m.\u001b[39madd_line(line)\n",
      "File \u001b[0;32m~/anaconda3/lib/python3.11/site-packages/matplotlib/axes/_base.py:303\u001b[0m, in \u001b[0;36m_process_plot_var_args.__call__\u001b[0;34m(self, axes, data, *args, **kwargs)\u001b[0m\n\u001b[1;32m    301\u001b[0m     this \u001b[38;5;241m+\u001b[39m\u001b[38;5;241m=\u001b[39m args[\u001b[38;5;241m0\u001b[39m],\n\u001b[1;32m    302\u001b[0m     args \u001b[38;5;241m=\u001b[39m args[\u001b[38;5;241m1\u001b[39m:]\n\u001b[0;32m--> 303\u001b[0m \u001b[38;5;28;01myield from\u001b[39;00m \u001b[38;5;28mself\u001b[39m\u001b[38;5;241m.\u001b[39m_plot_args(\n\u001b[1;32m    304\u001b[0m     axes, this, kwargs, ambiguous_fmt_datakey\u001b[38;5;241m=\u001b[39mambiguous_fmt_datakey)\n",
      "File \u001b[0;32m~/anaconda3/lib/python3.11/site-packages/matplotlib/axes/_base.py:499\u001b[0m, in \u001b[0;36m_process_plot_var_args._plot_args\u001b[0;34m(self, axes, tup, kwargs, return_kwargs, ambiguous_fmt_datakey)\u001b[0m\n\u001b[1;32m    496\u001b[0m     axes\u001b[38;5;241m.\u001b[39myaxis\u001b[38;5;241m.\u001b[39mupdate_units(y)\n\u001b[1;32m    498\u001b[0m \u001b[38;5;28;01mif\u001b[39;00m x\u001b[38;5;241m.\u001b[39mshape[\u001b[38;5;241m0\u001b[39m] \u001b[38;5;241m!=\u001b[39m y\u001b[38;5;241m.\u001b[39mshape[\u001b[38;5;241m0\u001b[39m]:\n\u001b[0;32m--> 499\u001b[0m     \u001b[38;5;28;01mraise\u001b[39;00m \u001b[38;5;167;01mValueError\u001b[39;00m(\u001b[38;5;124mf\u001b[39m\u001b[38;5;124m\"\u001b[39m\u001b[38;5;124mx and y must have same first dimension, but \u001b[39m\u001b[38;5;124m\"\u001b[39m\n\u001b[1;32m    500\u001b[0m                      \u001b[38;5;124mf\u001b[39m\u001b[38;5;124m\"\u001b[39m\u001b[38;5;124mhave shapes \u001b[39m\u001b[38;5;132;01m{\u001b[39;00mx\u001b[38;5;241m.\u001b[39mshape\u001b[38;5;132;01m}\u001b[39;00m\u001b[38;5;124m and \u001b[39m\u001b[38;5;132;01m{\u001b[39;00my\u001b[38;5;241m.\u001b[39mshape\u001b[38;5;132;01m}\u001b[39;00m\u001b[38;5;124m\"\u001b[39m)\n\u001b[1;32m    501\u001b[0m \u001b[38;5;28;01mif\u001b[39;00m x\u001b[38;5;241m.\u001b[39mndim \u001b[38;5;241m>\u001b[39m \u001b[38;5;241m2\u001b[39m \u001b[38;5;129;01mor\u001b[39;00m y\u001b[38;5;241m.\u001b[39mndim \u001b[38;5;241m>\u001b[39m \u001b[38;5;241m2\u001b[39m:\n\u001b[1;32m    502\u001b[0m     \u001b[38;5;28;01mraise\u001b[39;00m \u001b[38;5;167;01mValueError\u001b[39;00m(\u001b[38;5;124mf\u001b[39m\u001b[38;5;124m\"\u001b[39m\u001b[38;5;124mx and y can be no greater than 2D, but have \u001b[39m\u001b[38;5;124m\"\u001b[39m\n\u001b[1;32m    503\u001b[0m                      \u001b[38;5;124mf\u001b[39m\u001b[38;5;124m\"\u001b[39m\u001b[38;5;124mshapes \u001b[39m\u001b[38;5;132;01m{\u001b[39;00mx\u001b[38;5;241m.\u001b[39mshape\u001b[38;5;132;01m}\u001b[39;00m\u001b[38;5;124m and \u001b[39m\u001b[38;5;132;01m{\u001b[39;00my\u001b[38;5;241m.\u001b[39mshape\u001b[38;5;132;01m}\u001b[39;00m\u001b[38;5;124m\"\u001b[39m)\n",
      "\u001b[0;31mValueError\u001b[0m: x and y must have same first dimension, but have shapes (27,) and (7, 1)"
     ]
    },
    {
     "data": {
      "image/png": "[encoded data removed]",
      "text/plain": [
       "<Figure size 1800x1200 with 1 Axes>"
      ]
     },
     "metadata": {},
     "output_type": "display_data"
    }
   ],
   "source": [
    "fig, axs = plt.subplots(1,figsize =(18,12),sharex=True, sharey=True)\n",
    "fig.suptitle('Model Predictions')\n",
    "\n",
    "#Plot for RNN predictions\n",
    "plt.plot(train_data.index, train_data.Adm, label = \"train_data\", color = \"b\")\n",
    "plt.plot(test_data.index, test_data.Adm, label = \"test_data\", color = \"r\")\n",
    "plt.plot(test_data.index, y_RNN_O, label = \"y_RNN\", color = \"yellow\")\n",
    "plt.legend()\n",
    "plt.title(\"Basic RNN\")\n",
    "\n",
    "plt.xlabel(\"Years\")\n",
    "plt.ylabel(\"Adm\")\n",
    "\n",
    "plt.show()"
   ]
  },
  {
   "cell_type": "markdown",
   "id": "5bbeb35d",
   "metadata": {},
   "source": [
    "## Regression with Keras\n",
    "Our target variable is Adm, so the regressors will be Cardio, Resp and Hypo."
   ]
  },
  {
   "cell_type": "code",
   "execution_count": 20,
   "id": "a181045e",
   "metadata": {},
   "outputs": [],
   "source": [
    "columns = ts.columns\n",
    "\n",
    "predictors = ts[columns[columns != 'Adm']] # all columns except Strength\n",
    "target = ts['Adm'] # Strength column"
   ]
  },
  {
   "cell_type": "code",
   "execution_count": 24,
   "id": "62f515b6",
   "metadata": {},
   "outputs": [
    {
     "data": {
      "text/html": [
       "<div>\n",
       "<style scoped>\n",
       "    .dataframe tbody tr th:only-of-type {\n",
       "        vertical-align: middle;\n",
       "    }\n",
       "\n",
       "    .dataframe tbody tr th {\n",
       "        vertical-align: top;\n",
       "    }\n",
       "\n",
       "    .dataframe thead th {\n",
       "        text-align: right;\n",
       "    }\n",
       "</style>\n",
       "<table border=\"1\" class=\"dataframe\">\n",
       "  <thead>\n",
       "    <tr style=\"text-align: right;\">\n",
       "      <th></th>\n",
       "      <th>Cardio</th>\n",
       "      <th>Resp</th>\n",
       "      <th>Hypo</th>\n",
       "      <th>year</th>\n",
       "      <th>month</th>\n",
       "    </tr>\n",
       "  </thead>\n",
       "  <tbody>\n",
       "    <tr>\n",
       "      <th>1</th>\n",
       "      <td>1</td>\n",
       "      <td>0</td>\n",
       "      <td>0</td>\n",
       "      <td>1999</td>\n",
       "      <td>11</td>\n",
       "    </tr>\n",
       "    <tr>\n",
       "      <th>2</th>\n",
       "      <td>1</td>\n",
       "      <td>0</td>\n",
       "      <td>0</td>\n",
       "      <td>1999</td>\n",
       "      <td>12</td>\n",
       "    </tr>\n",
       "    <tr>\n",
       "      <th>3</th>\n",
       "      <td>1</td>\n",
       "      <td>0</td>\n",
       "      <td>0</td>\n",
       "      <td>2000</td>\n",
       "      <td>1</td>\n",
       "    </tr>\n",
       "    <tr>\n",
       "      <th>4</th>\n",
       "      <td>0</td>\n",
       "      <td>0</td>\n",
       "      <td>0</td>\n",
       "      <td>2000</td>\n",
       "      <td>2</td>\n",
       "    </tr>\n",
       "    <tr>\n",
       "      <th>5</th>\n",
       "      <td>1</td>\n",
       "      <td>0</td>\n",
       "      <td>0</td>\n",
       "      <td>2000</td>\n",
       "      <td>3</td>\n",
       "    </tr>\n",
       "  </tbody>\n",
       "</table>\n",
       "</div>"
      ],
      "text/plain": [
       "   Cardio  Resp  Hypo  year  month\n",
       "1       1     0     0  1999     11\n",
       "2       1     0     0  1999     12\n",
       "3       1     0     0  2000      1\n",
       "4       0     0     0  2000      2\n",
       "5       1     0     0  2000      3"
      ]
     },
     "execution_count": 24,
     "metadata": {},
     "output_type": "execute_result"
    }
   ],
   "source": [
    "predictors.head()"
   ]
  },
  {
   "cell_type": "code",
   "execution_count": 25,
   "id": "f80dab47",
   "metadata": {},
   "outputs": [
    {
     "data": {
      "text/plain": [
       "1    413\n",
       "2    443\n",
       "3    378\n",
       "4    385\n",
       "5    388\n",
       "Name: Adm, dtype: int64"
      ]
     },
     "execution_count": 25,
     "metadata": {},
     "output_type": "execute_result"
    }
   ],
   "source": [
    "target.head()"
   ]
  },
  {
   "cell_type": "markdown",
   "id": "bee42967",
   "metadata": {},
   "source": [
    "* Normalizing the data"
   ]
  },
  {
   "cell_type": "code",
   "execution_count": 26,
   "id": "6ad58753",
   "metadata": {},
   "outputs": [
    {
     "data": {
      "text/html": [
       "<div>\n",
       "<style scoped>\n",
       "    .dataframe tbody tr th:only-of-type {\n",
       "        vertical-align: middle;\n",
       "    }\n",
       "\n",
       "    .dataframe tbody tr th {\n",
       "        vertical-align: top;\n",
       "    }\n",
       "\n",
       "    .dataframe thead th {\n",
       "        text-align: right;\n",
       "    }\n",
       "</style>\n",
       "<table border=\"1\" class=\"dataframe\">\n",
       "  <thead>\n",
       "    <tr style=\"text-align: right;\">\n",
       "      <th></th>\n",
       "      <th>Cardio</th>\n",
       "      <th>Resp</th>\n",
       "      <th>Hypo</th>\n",
       "      <th>year</th>\n",
       "      <th>month</th>\n",
       "    </tr>\n",
       "  </thead>\n",
       "  <tbody>\n",
       "    <tr>\n",
       "      <th>1</th>\n",
       "      <td>0.160253</td>\n",
       "      <td>-0.444985</td>\n",
       "      <td>-0.306282</td>\n",
       "      <td>-1.817441</td>\n",
       "      <td>1.299653</td>\n",
       "    </tr>\n",
       "    <tr>\n",
       "      <th>2</th>\n",
       "      <td>0.160253</td>\n",
       "      <td>-0.444985</td>\n",
       "      <td>-0.306282</td>\n",
       "      <td>-1.817441</td>\n",
       "      <td>1.585043</td>\n",
       "    </tr>\n",
       "    <tr>\n",
       "      <th>3</th>\n",
       "      <td>0.160253</td>\n",
       "      <td>-0.444985</td>\n",
       "      <td>-0.306282</td>\n",
       "      <td>-1.520933</td>\n",
       "      <td>-1.554246</td>\n",
       "    </tr>\n",
       "    <tr>\n",
       "      <th>4</th>\n",
       "      <td>-1.012122</td>\n",
       "      <td>-0.444985</td>\n",
       "      <td>-0.306282</td>\n",
       "      <td>-1.520933</td>\n",
       "      <td>-1.268856</td>\n",
       "    </tr>\n",
       "    <tr>\n",
       "      <th>5</th>\n",
       "      <td>0.160253</td>\n",
       "      <td>-0.444985</td>\n",
       "      <td>-0.306282</td>\n",
       "      <td>-1.520933</td>\n",
       "      <td>-0.983466</td>\n",
       "    </tr>\n",
       "  </tbody>\n",
       "</table>\n",
       "</div>"
      ],
      "text/plain": [
       "     Cardio      Resp      Hypo      year     month\n",
       "1  0.160253 -0.444985 -0.306282 -1.817441  1.299653\n",
       "2  0.160253 -0.444985 -0.306282 -1.817441  1.585043\n",
       "3  0.160253 -0.444985 -0.306282 -1.520933 -1.554246\n",
       "4 -1.012122 -0.444985 -0.306282 -1.520933 -1.268856\n",
       "5  0.160253 -0.444985 -0.306282 -1.520933 -0.983466"
      ]
     },
     "execution_count": 26,
     "metadata": {},
     "output_type": "execute_result"
    }
   ],
   "source": [
    "predictors_norm = (predictors - predictors.mean()) / predictors.std()\n",
    "n_cols = predictors_norm.shape[1]\n",
    "predictors_norm.head()"
   ]
  },
  {
   "cell_type": "code",
   "execution_count": 27,
   "id": "72053c1d",
   "metadata": {},
   "outputs": [],
   "source": [
    "import keras\n",
    "from keras.models import Sequential\n",
    "from keras.layers import Dense"
   ]
  },
  {
   "cell_type": "code",
   "execution_count": 30,
   "id": "c32ca2f1",
   "metadata": {},
   "outputs": [],
   "source": [
    "def regression_model():\n",
    "    # create model\n",
    "    model = Sequential()\n",
    "    model.add(Dense(50, activation='relu', input_shape=(n_cols,)))\n",
    "    model.add(Dense(50, activation='relu'))\n",
    "    model.add(Dense(1))\n",
    "    \n",
    "    # compile model\n",
    "    model.compile(optimizer='adam', loss='mean_squared_error')\n",
    "    return model\n",
    "model = regression_model()"
   ]
  },
  {
   "cell_type": "markdown",
   "id": "76cdec3d",
   "metadata": {},
   "source": [
    "* Fitting the model"
   ]
  },
  {
   "cell_type": "code",
   "execution_count": 31,
   "id": "333b57dd",
   "metadata": {},
   "outputs": [
    {
     "name": "stdout",
     "output_type": "stream",
     "text": [
      "Epoch 1/100\n",
      "4/4 - 0s - loss: 283682.8438 - val_loss: 309214.6250 - 152ms/epoch - 38ms/step\n",
      "Epoch 2/100\n",
      "4/4 - 0s - loss: 283477.1250 - val_loss: 309034.0625 - 9ms/epoch - 2ms/step\n",
      "Epoch 3/100\n",
      "4/4 - 0s - loss: 283283.0000 - val_loss: 308856.7500 - 9ms/epoch - 2ms/step\n",
      "Epoch 4/100\n",
      "4/4 - 0s - loss: 283093.3750 - val_loss: 308676.3125 - 10ms/epoch - 3ms/step\n",
      "Epoch 5/100\n",
      "4/4 - 0s - loss: 282905.0000 - val_loss: 308498.5312 - 10ms/epoch - 2ms/step\n",
      "Epoch 6/100\n",
      "4/4 - 0s - loss: 282712.4375 - val_loss: 308315.0000 - 10ms/epoch - 3ms/step\n",
      "Epoch 7/100\n",
      "4/4 - 0s - loss: 282508.2812 - val_loss: 308126.0625 - 11ms/epoch - 3ms/step\n",
      "Epoch 8/100\n",
      "4/4 - 0s - loss: 282299.1250 - val_loss: 307933.1562 - 9ms/epoch - 2ms/step\n",
      "Epoch 9/100\n",
      "4/4 - 0s - loss: 282072.0938 - val_loss: 307734.5938 - 11ms/epoch - 3ms/step\n",
      "Epoch 10/100\n",
      "4/4 - 0s - loss: 281828.3750 - val_loss: 307523.3750 - 10ms/epoch - 2ms/step\n",
      "Epoch 11/100\n",
      "4/4 - 0s - loss: 281562.9688 - val_loss: 307294.6875 - 10ms/epoch - 3ms/step\n",
      "Epoch 12/100\n",
      "4/4 - 0s - loss: 281269.9688 - val_loss: 307048.1875 - 10ms/epoch - 3ms/step\n",
      "Epoch 13/100\n",
      "4/4 - 0s - loss: 280954.5312 - val_loss: 306788.6562 - 10ms/epoch - 3ms/step\n",
      "Epoch 14/100\n",
      "4/4 - 0s - loss: 280601.5000 - val_loss: 306505.0938 - 10ms/epoch - 3ms/step\n",
      "Epoch 15/100\n",
      "4/4 - 0s - loss: 280227.9688 - val_loss: 306198.8125 - 10ms/epoch - 3ms/step\n",
      "Epoch 16/100\n",
      "4/4 - 0s - loss: 279823.6250 - val_loss: 305877.3438 - 9ms/epoch - 2ms/step\n",
      "Epoch 17/100\n",
      "4/4 - 0s - loss: 279397.3125 - val_loss: 305534.0625 - 11ms/epoch - 3ms/step\n",
      "Epoch 18/100\n",
      "4/4 - 0s - loss: 278916.7188 - val_loss: 305164.1875 - 11ms/epoch - 3ms/step\n",
      "Epoch 19/100\n",
      "4/4 - 0s - loss: 278400.5625 - val_loss: 304768.9375 - 10ms/epoch - 2ms/step\n",
      "Epoch 20/100\n",
      "4/4 - 0s - loss: 277810.4688 - val_loss: 304353.5625 - 10ms/epoch - 3ms/step\n",
      "Epoch 21/100\n",
      "4/4 - 0s - loss: 277175.8438 - val_loss: 303910.2812 - 10ms/epoch - 3ms/step\n",
      "Epoch 22/100\n",
      "4/4 - 0s - loss: 276497.3750 - val_loss: 303423.9375 - 10ms/epoch - 2ms/step\n",
      "Epoch 23/100\n",
      "4/4 - 0s - loss: 275746.9375 - val_loss: 302910.1562 - 10ms/epoch - 3ms/step\n",
      "Epoch 24/100\n",
      "4/4 - 0s - loss: 274940.8125 - val_loss: 302368.9375 - 10ms/epoch - 3ms/step\n",
      "Epoch 25/100\n",
      "4/4 - 0s - loss: 274043.1562 - val_loss: 301775.3750 - 10ms/epoch - 3ms/step\n",
      "Epoch 26/100\n",
      "4/4 - 0s - loss: 273100.5625 - val_loss: 301127.7812 - 11ms/epoch - 3ms/step\n",
      "Epoch 27/100\n",
      "4/4 - 0s - loss: 272071.0938 - val_loss: 300433.3438 - 10ms/epoch - 3ms/step\n",
      "Epoch 28/100\n",
      "4/4 - 0s - loss: 270946.2188 - val_loss: 299719.2500 - 11ms/epoch - 3ms/step\n",
      "Epoch 29/100\n",
      "4/4 - 0s - loss: 269716.6875 - val_loss: 298960.5625 - 10ms/epoch - 3ms/step\n",
      "Epoch 30/100\n",
      "4/4 - 0s - loss: 268399.0625 - val_loss: 298151.5625 - 10ms/epoch - 2ms/step\n",
      "Epoch 31/100\n",
      "4/4 - 0s - loss: 266981.5625 - val_loss: 297326.5625 - 10ms/epoch - 2ms/step\n",
      "Epoch 32/100\n",
      "4/4 - 0s - loss: 265433.1562 - val_loss: 296445.9375 - 10ms/epoch - 3ms/step\n",
      "Epoch 33/100\n",
      "4/4 - 0s - loss: 263791.9375 - val_loss: 295505.4375 - 9ms/epoch - 2ms/step\n",
      "Epoch 34/100\n",
      "4/4 - 0s - loss: 262031.2812 - val_loss: 294488.1562 - 10ms/epoch - 3ms/step\n",
      "Epoch 35/100\n",
      "4/4 - 0s - loss: 260175.9531 - val_loss: 293458.6250 - 10ms/epoch - 2ms/step\n",
      "Epoch 36/100\n",
      "4/4 - 0s - loss: 258197.7969 - val_loss: 292375.0625 - 9ms/epoch - 2ms/step\n",
      "Epoch 37/100\n",
      "4/4 - 0s - loss: 256107.9531 - val_loss: 291276.7500 - 10ms/epoch - 3ms/step\n",
      "Epoch 38/100\n",
      "4/4 - 0s - loss: 253931.2188 - val_loss: 290114.5625 - 10ms/epoch - 2ms/step\n",
      "Epoch 39/100\n",
      "4/4 - 0s - loss: 251664.2031 - val_loss: 288873.5312 - 10ms/epoch - 3ms/step\n",
      "Epoch 40/100\n",
      "4/4 - 0s - loss: 249289.2031 - val_loss: 287590.8125 - 14ms/epoch - 4ms/step\n",
      "Epoch 41/100\n",
      "4/4 - 0s - loss: 246807.3594 - val_loss: 286212.3750 - 10ms/epoch - 3ms/step\n",
      "Epoch 42/100\n",
      "4/4 - 0s - loss: 244258.6562 - val_loss: 284759.7500 - 10ms/epoch - 2ms/step\n",
      "Epoch 43/100\n",
      "4/4 - 0s - loss: 241544.9531 - val_loss: 283306.2500 - 10ms/epoch - 3ms/step\n",
      "Epoch 44/100\n",
      "4/4 - 0s - loss: 238651.7344 - val_loss: 281790.5000 - 9ms/epoch - 2ms/step\n",
      "Epoch 45/100\n",
      "4/4 - 0s - loss: 235534.2344 - val_loss: 280237.3438 - 10ms/epoch - 3ms/step\n",
      "Epoch 46/100\n",
      "4/4 - 0s - loss: 232350.2031 - val_loss: 278649.0938 - 11ms/epoch - 3ms/step\n",
      "Epoch 47/100\n",
      "4/4 - 0s - loss: 229050.9219 - val_loss: 276962.0312 - 13ms/epoch - 3ms/step\n",
      "Epoch 48/100\n",
      "4/4 - 0s - loss: 225663.6250 - val_loss: 275258.9688 - 10ms/epoch - 3ms/step\n",
      "Epoch 49/100\n",
      "4/4 - 0s - loss: 222165.0938 - val_loss: 273423.3438 - 11ms/epoch - 3ms/step\n",
      "Epoch 50/100\n",
      "4/4 - 0s - loss: 218610.6250 - val_loss: 271498.9688 - 10ms/epoch - 2ms/step\n",
      "Epoch 51/100\n",
      "4/4 - 0s - loss: 214894.8438 - val_loss: 269542.7500 - 10ms/epoch - 3ms/step\n",
      "Epoch 52/100\n",
      "4/4 - 0s - loss: 210940.5781 - val_loss: 267621.6250 - 10ms/epoch - 2ms/step\n",
      "Epoch 53/100\n",
      "4/4 - 0s - loss: 206867.6875 - val_loss: 265686.1562 - 9ms/epoch - 2ms/step\n",
      "Epoch 54/100\n",
      "4/4 - 0s - loss: 202613.6719 - val_loss: 263663.8750 - 11ms/epoch - 3ms/step\n",
      "Epoch 55/100\n",
      "4/4 - 0s - loss: 198241.7656 - val_loss: 261524.7344 - 9ms/epoch - 2ms/step\n",
      "Epoch 56/100\n",
      "4/4 - 0s - loss: 193786.1719 - val_loss: 259211.2656 - 10ms/epoch - 2ms/step\n",
      "Epoch 57/100\n",
      "4/4 - 0s - loss: 189338.0625 - val_loss: 256811.9219 - 11ms/epoch - 3ms/step\n",
      "Epoch 58/100\n",
      "4/4 - 0s - loss: 184853.0781 - val_loss: 254340.5938 - 10ms/epoch - 2ms/step\n",
      "Epoch 59/100\n",
      "4/4 - 0s - loss: 180247.3438 - val_loss: 251864.8594 - 10ms/epoch - 3ms/step\n",
      "Epoch 60/100\n",
      "4/4 - 0s - loss: 175448.2344 - val_loss: 249421.4531 - 10ms/epoch - 3ms/step\n",
      "Epoch 61/100\n",
      "4/4 - 0s - loss: 170571.3438 - val_loss: 246823.7812 - 18ms/epoch - 5ms/step\n",
      "Epoch 62/100\n",
      "4/4 - 0s - loss: 165664.5938 - val_loss: 244170.6406 - 11ms/epoch - 3ms/step\n",
      "Epoch 63/100\n",
      "4/4 - 0s - loss: 160829.3594 - val_loss: 241337.0000 - 10ms/epoch - 3ms/step\n",
      "Epoch 64/100\n",
      "4/4 - 0s - loss: 155992.8594 - val_loss: 238459.2188 - 10ms/epoch - 2ms/step\n",
      "Epoch 65/100\n",
      "4/4 - 0s - loss: 151150.7344 - val_loss: 235716.9531 - 9ms/epoch - 2ms/step\n",
      "Epoch 66/100\n",
      "4/4 - 0s - loss: 146204.2500 - val_loss: 233102.2344 - 10ms/epoch - 2ms/step\n",
      "Epoch 67/100\n",
      "4/4 - 0s - loss: 141274.9688 - val_loss: 230536.0469 - 10ms/epoch - 3ms/step\n",
      "Epoch 68/100\n",
      "4/4 - 0s - loss: 136461.6719 - val_loss: 228072.1875 - 9ms/epoch - 2ms/step\n",
      "Epoch 69/100\n",
      "4/4 - 0s - loss: 131694.3281 - val_loss: 225553.0000 - 9ms/epoch - 2ms/step\n",
      "Epoch 70/100\n",
      "4/4 - 0s - loss: 127020.6094 - val_loss: 222694.5312 - 10ms/epoch - 2ms/step\n",
      "Epoch 71/100\n",
      "4/4 - 0s - loss: 122422.2188 - val_loss: 219666.5781 - 10ms/epoch - 3ms/step\n",
      "Epoch 72/100\n",
      "4/4 - 0s - loss: 117922.7109 - val_loss: 216742.3281 - 10ms/epoch - 3ms/step\n",
      "Epoch 73/100\n",
      "4/4 - 0s - loss: 113395.8672 - val_loss: 213752.7188 - 13ms/epoch - 3ms/step\n",
      "Epoch 74/100\n",
      "4/4 - 0s - loss: 108877.2266 - val_loss: 210681.5312 - 9ms/epoch - 2ms/step\n",
      "Epoch 75/100\n",
      "4/4 - 0s - loss: 104482.7422 - val_loss: 207544.4219 - 10ms/epoch - 2ms/step\n",
      "Epoch 76/100\n",
      "4/4 - 0s - loss: 100192.9688 - val_loss: 204527.3281 - 10ms/epoch - 2ms/step\n",
      "Epoch 77/100\n",
      "4/4 - 0s - loss: 95853.0000 - val_loss: 201506.8750 - 10ms/epoch - 2ms/step\n",
      "Epoch 78/100\n",
      "4/4 - 0s - loss: 91773.6016 - val_loss: 198671.7656 - 9ms/epoch - 2ms/step\n",
      "Epoch 79/100\n",
      "4/4 - 0s - loss: 87861.7656 - val_loss: 195877.7344 - 10ms/epoch - 3ms/step\n",
      "Epoch 80/100\n",
      "4/4 - 0s - loss: 84199.6562 - val_loss: 192832.6094 - 10ms/epoch - 2ms/step\n",
      "Epoch 81/100\n",
      "4/4 - 0s - loss: 80600.5547 - val_loss: 189664.0938 - 9ms/epoch - 2ms/step\n",
      "Epoch 82/100\n",
      "4/4 - 0s - loss: 77205.9141 - val_loss: 186506.0781 - 10ms/epoch - 2ms/step\n",
      "Epoch 83/100\n",
      "4/4 - 0s - loss: 73975.8438 - val_loss: 183384.5000 - 10ms/epoch - 2ms/step\n",
      "Epoch 84/100\n",
      "4/4 - 0s - loss: 70996.3750 - val_loss: 180365.3281 - 9ms/epoch - 2ms/step\n",
      "Epoch 85/100\n",
      "4/4 - 0s - loss: 68104.9531 - val_loss: 177252.8438 - 9ms/epoch - 2ms/step\n",
      "Epoch 86/100\n",
      "4/4 - 0s - loss: 65355.0977 - val_loss: 174239.1250 - 10ms/epoch - 2ms/step\n",
      "Epoch 87/100\n",
      "4/4 - 0s - loss: 62783.6016 - val_loss: 171104.2656 - 10ms/epoch - 3ms/step\n",
      "Epoch 88/100\n",
      "4/4 - 0s - loss: 60382.2383 - val_loss: 167902.3906 - 10ms/epoch - 2ms/step\n",
      "Epoch 89/100\n",
      "4/4 - 0s - loss: 57899.4062 - val_loss: 164783.7188 - 9ms/epoch - 2ms/step\n",
      "Epoch 90/100\n",
      "4/4 - 0s - loss: 55710.3711 - val_loss: 161876.5312 - 10ms/epoch - 2ms/step\n",
      "Epoch 91/100\n",
      "4/4 - 0s - loss: 53741.7109 - val_loss: 159082.5625 - 10ms/epoch - 3ms/step\n",
      "Epoch 92/100\n",
      "4/4 - 0s - loss: 51958.6445 - val_loss: 156279.7969 - 9ms/epoch - 2ms/step\n"
     ]
    },
    {
     "name": "stdout",
     "output_type": "stream",
     "text": [
      "Epoch 93/100\n",
      "4/4 - 0s - loss: 50427.4805 - val_loss: 153667.7188 - 10ms/epoch - 2ms/step\n",
      "Epoch 94/100\n",
      "4/4 - 0s - loss: 49098.0625 - val_loss: 151188.1719 - 10ms/epoch - 2ms/step\n",
      "Epoch 95/100\n",
      "4/4 - 0s - loss: 48026.4648 - val_loss: 148819.5938 - 10ms/epoch - 2ms/step\n",
      "Epoch 96/100\n",
      "4/4 - 0s - loss: 47135.1992 - val_loss: 146416.8750 - 10ms/epoch - 2ms/step\n",
      "Epoch 97/100\n",
      "4/4 - 0s - loss: 46112.1250 - val_loss: 143726.8594 - 9ms/epoch - 2ms/step\n",
      "Epoch 98/100\n",
      "4/4 - 0s - loss: 45053.1992 - val_loss: 140933.4531 - 10ms/epoch - 2ms/step\n",
      "Epoch 99/100\n",
      "4/4 - 0s - loss: 43911.1797 - val_loss: 138358.2500 - 10ms/epoch - 2ms/step\n",
      "Epoch 100/100\n",
      "4/4 - 0s - loss: 43010.5078 - val_loss: 135900.9219 - 9ms/epoch - 2ms/step\n"
     ]
    },
    {
     "data": {
      "text/plain": [
       "<keras.src.callbacks.History at 0x17dc27fd0>"
      ]
     },
     "execution_count": 31,
     "metadata": {},
     "output_type": "execute_result"
    }
   ],
   "source": [
    "model.fit(predictors_norm, target, validation_split=0.3, epochs=100, verbose=2)"
   ]
  },
  {
   "cell_type": "markdown",
   "id": "ff9866f8",
   "metadata": {},
   "source": [
    "The term 'loss' represents the value of the cost function calculated using the training data, while 'val_loss' denotes the value of the cost function computed using the cross-validation data."
   ]
  }
 ],
 "metadata": {
  "kernelspec": {
   "display_name": "Python 3 (ipykernel)",
   "language": "python",
   "name": "python3"
  },
  "language_info": {
   "codemirror_mode": {
    "name": "ipython",
    "version": 3
   },
   "file_extension": ".py",
   "mimetype": "text/x-python",
   "name": "python",
   "nbconvert_exporter": "python",
   "pygments_lexer": "ipython3",
   "version": "3.11.5"
  }
 },
 "nbformat": 4,
 "nbformat_minor": 5
}
